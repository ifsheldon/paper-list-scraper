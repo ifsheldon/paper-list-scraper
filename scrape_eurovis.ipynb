{
 "cells": [
  {
   "cell_type": "code",
   "execution_count": null,
   "id": "a6568032",
   "metadata": {},
   "outputs": [],
   "source": [
    "import aiohttp\n",
    "from typing import Dict, Any\n",
    "import asyncio\n",
    "from tqdm.auto import tqdm\n",
    "import random\n",
    "import json\n",
    "\n",
    "USER_AGENT = \"Mozilla/5.0 (Macintosh; Intel Mac OS X 10_15_7) AppleWebKit/605.1.15 (KHTML, like Gecko) Version/26.0.1 Safari/605.1.15\"\n",
    "\n",
    "# from https://diglib.eg.org/communities/80fa7e37-2d2d-4ebf-af88-3979808dc118\n",
    "volumes_to_id = {\n",
    "    \"34(2015)\": \"aefebe7c-3a9c-40ce-832b-34b752a270aa\",\n",
    "    \"35(2016)\": \"a3d41902-05d0-4c06-bd25-ac0d0deaeba0\",\n",
    "    \"36(2017)\": \"881bb0c6-cec0-48fd-a237-03a99d410e44\",\n",
    "    \"37(2018)\": \"43de9d14-da8a-41ed-9b96-08a2923eeb8e\",\n",
    "    \"38(2019)\": \"d37e8b96-edab-4c53-beef-a70089e3171b\",\n",
    "    \"39(2020)\": \"b682cad8-1600-498b-9d54-c37192b8165d\",\n",
    "    \"40(2021)\": \"420f6880-6b1f-407e-a334-a4322df51631\",\n",
    "    \"41(2022)\": \"3d8889d0-b367-437b-b97f-57215b92b85d\",\n",
    "    \"42(2023)\": \"bb4843ec-17fe-4dd8-b391-e57b0f34181e\",\n",
    "    \"43(2024)\": \"1429bb38-796b-4d48-b8de-268d21c973a1\",\n",
    "    \"44(2025)\": \"da03e00f-81f6-449d-83cb-b687c9744c8d\",\n",
    "}\n",
    "url = \"https://diglib.eg.org/server/api/discover/browses/title/items\""
   ]
  },
  {
   "cell_type": "code",
   "execution_count": null,
   "id": "c7a19bd1",
   "metadata": {},
   "outputs": [],
   "source": [
    "async def get_papers_in_page(session: aiohttp.ClientSession, volume_id: str, page: int):\n",
    "    query = {\n",
    "        \"scope\": volume_id,\n",
    "        \"sort\": \"dc.title,ASC\",\n",
    "        \"page\": page,\n",
    "        \"size\": 20,\n",
    "    }\n",
    "    async with session.get(\n",
    "        url, headers={\"User-Agent\": USER_AGENT}, params=query\n",
    "    ) as response:\n",
    "        response_type = response.headers[\"Content-Type\"]\n",
    "        if \"json\" in response_type:\n",
    "            json_response = await response.json()\n",
    "            return json_response\n",
    "        else:\n",
    "            raise ValueError(\n",
    "                f\"Unexpected response type: {response_type}, content: {await response.text()}\"\n",
    "            )"
   ]
  },
  {
   "cell_type": "code",
   "execution_count": null,
   "id": "f28f81a3",
   "metadata": {},
   "outputs": [],
   "source": [
    "def parse_paper_data(response: Dict[str, Any]):\n",
    "    paper_items = response.get(\"_embedded\", {\"items\": []}).get(\"items\", [])\n",
    "    papers = []\n",
    "    for paper_item in paper_items:\n",
    "        paper_id = paper_item[\"id\"]\n",
    "        paper_metadata = paper_item[\"metadata\"]\n",
    "        paper_doi = paper_metadata[\"dc.identifier.doi\"][0][\"value\"]\n",
    "        if \"dc.description.volume\" in paper_metadata:\n",
    "            paper_volume = paper_metadata[\"dc.description.volume\"][0][\"value\"]\n",
    "        else:\n",
    "            paper_volume = None\n",
    "        if \"dc.description.number\" in paper_metadata:\n",
    "            paper_issue_number = paper_metadata[\"dc.description.number\"][0][\"value\"]\n",
    "        else:\n",
    "            paper_issue_number = None\n",
    "        if \"dc.description.abstract\" in paper_metadata:\n",
    "            paper_abstract = paper_metadata[\"dc.description.abstract\"][0][\"value\"]\n",
    "        else:\n",
    "            paper_abstract = \"\"\n",
    "        paper_title = paper_metadata[\"dc.title\"][0][\"value\"]\n",
    "        papers.append(\n",
    "            {\n",
    "                \"id\": paper_id,\n",
    "                \"doi\": paper_doi,\n",
    "                \"volume\": paper_volume,\n",
    "                \"issue_number\": paper_issue_number,\n",
    "                \"title\": paper_title,\n",
    "                \"abstract\": paper_abstract,\n",
    "            }\n",
    "        )\n",
    "    \n",
    "    return papers\n",
    "\n",
    "\n",
    "async def get_papers_in_volume(\n",
    "    session: aiohttp.ClientSession, volume_id: str, sleep: float = 0.5\n",
    "):\n",
    "    json_response = await get_papers_in_page(session, volume_id, 0)\n",
    "    page_info = json_response[\"page\"]\n",
    "    total_pages = page_info[\"totalPages\"]\n",
    "    total_item_num = page_info[\"totalElements\"]\n",
    "    all_papers = parse_paper_data(json_response)\n",
    "\n",
    "    if total_pages > 1:\n",
    "        for i in tqdm(range(1, total_pages), leave=False):\n",
    "            json_response = await get_papers_in_page(session, volume_id, i)\n",
    "            all_papers.extend(parse_paper_data(json_response))\n",
    "            sleep_time = random.uniform(sleep - 0.1, sleep + 0.1)\n",
    "            await asyncio.sleep(sleep_time)\n",
    "\n",
    "    assert len(all_papers) == total_item_num, (\n",
    "        f\"total_item_num: {total_item_num}, len(all_papers): {len(all_papers)}, volume_id: {volume_id}\"\n",
    "    )\n",
    "    return all_papers\n"
   ]
  },
  {
   "cell_type": "code",
   "execution_count": null,
   "id": "c8f1341b",
   "metadata": {},
   "outputs": [],
   "source": [
    "all_papers = []\n",
    "async with aiohttp.ClientSession() as session:\n",
    "    for volume_id in tqdm(volumes_to_id.values()):\n",
    "        papers = await get_papers_in_volume(session, volume_id)\n",
    "        all_papers.extend(papers)\n",
    "        sleep_time = random.uniform(0.1, 1.1)\n",
    "        await asyncio.sleep(sleep_time)"
   ]
  },
  {
   "cell_type": "code",
   "execution_count": null,
   "id": "bd2843f0",
   "metadata": {},
   "outputs": [],
   "source": [
    "paper_data = {\n",
    "    \"eurovis_2015_2025\": all_papers\n",
    "}"
   ]
  },
  {
   "cell_type": "code",
   "execution_count": null,
   "id": "4f14a840",
   "metadata": {},
   "outputs": [],
   "source": [
    "with open(\"eurovis_2015_2025.json\", \"w\") as f:\n",
    "    json.dump(paper_data, f, indent=4, ensure_ascii=False)"
   ]
  }
 ],
 "metadata": {
  "kernelspec": {
   "display_name": ".venv",
   "language": "python",
   "name": "python3"
  },
  "language_info": {
   "codemirror_mode": {
    "name": "ipython",
    "version": 3
   },
   "file_extension": ".py",
   "mimetype": "text/x-python",
   "name": "python",
   "nbconvert_exporter": "python",
   "pygments_lexer": "ipython3",
   "version": "3.12.9"
  }
 },
 "nbformat": 4,
 "nbformat_minor": 5
}
